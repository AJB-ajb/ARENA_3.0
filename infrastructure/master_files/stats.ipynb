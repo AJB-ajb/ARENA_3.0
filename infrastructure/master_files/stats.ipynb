{
 "cells": [
  {
   "cell_type": "code",
   "execution_count": 170,
   "metadata": {},
   "outputs": [
    {
     "name": "stdout",
     "output_type": "stream",
     "text": [
      "\u001b[1;31mInit signature:\u001b[0m\n",
      "\u001b[0mgo\u001b[0m\u001b[1;33m.\u001b[0m\u001b[0mBar\u001b[0m\u001b[1;33m(\u001b[0m\u001b[1;33m\n",
      "\u001b[0m    \u001b[0marg\u001b[0m\u001b[1;33m=\u001b[0m\u001b[1;32mNone\u001b[0m\u001b[1;33m,\u001b[0m\u001b[1;33m\n",
      "\u001b[0m    \u001b[0malignmentgroup\u001b[0m\u001b[1;33m=\u001b[0m\u001b[1;32mNone\u001b[0m\u001b[1;33m,\u001b[0m\u001b[1;33m\n",
      "\u001b[0m    \u001b[0mbase\u001b[0m\u001b[1;33m=\u001b[0m\u001b[1;32mNone\u001b[0m\u001b[1;33m,\u001b[0m\u001b[1;33m\n",
      "\u001b[0m    \u001b[0mbasesrc\u001b[0m\u001b[1;33m=\u001b[0m\u001b[1;32mNone\u001b[0m\u001b[1;33m,\u001b[0m\u001b[1;33m\n",
      "\u001b[0m    \u001b[0mcliponaxis\u001b[0m\u001b[1;33m=\u001b[0m\u001b[1;32mNone\u001b[0m\u001b[1;33m,\u001b[0m\u001b[1;33m\n",
      "\u001b[0m    \u001b[0mconstraintext\u001b[0m\u001b[1;33m=\u001b[0m\u001b[1;32mNone\u001b[0m\u001b[1;33m,\u001b[0m\u001b[1;33m\n",
      "\u001b[0m    \u001b[0mcustomdata\u001b[0m\u001b[1;33m=\u001b[0m\u001b[1;32mNone\u001b[0m\u001b[1;33m,\u001b[0m\u001b[1;33m\n",
      "\u001b[0m    \u001b[0mcustomdatasrc\u001b[0m\u001b[1;33m=\u001b[0m\u001b[1;32mNone\u001b[0m\u001b[1;33m,\u001b[0m\u001b[1;33m\n",
      "\u001b[0m    \u001b[0mdx\u001b[0m\u001b[1;33m=\u001b[0m\u001b[1;32mNone\u001b[0m\u001b[1;33m,\u001b[0m\u001b[1;33m\n",
      "\u001b[0m    \u001b[0mdy\u001b[0m\u001b[1;33m=\u001b[0m\u001b[1;32mNone\u001b[0m\u001b[1;33m,\u001b[0m\u001b[1;33m\n",
      "\u001b[0m    \u001b[0merror_x\u001b[0m\u001b[1;33m=\u001b[0m\u001b[1;32mNone\u001b[0m\u001b[1;33m,\u001b[0m\u001b[1;33m\n",
      "\u001b[0m    \u001b[0merror_y\u001b[0m\u001b[1;33m=\u001b[0m\u001b[1;32mNone\u001b[0m\u001b[1;33m,\u001b[0m\u001b[1;33m\n",
      "\u001b[0m    \u001b[0mhoverinfo\u001b[0m\u001b[1;33m=\u001b[0m\u001b[1;32mNone\u001b[0m\u001b[1;33m,\u001b[0m\u001b[1;33m\n",
      "\u001b[0m    \u001b[0mhoverinfosrc\u001b[0m\u001b[1;33m=\u001b[0m\u001b[1;32mNone\u001b[0m\u001b[1;33m,\u001b[0m\u001b[1;33m\n",
      "\u001b[0m    \u001b[0mhoverlabel\u001b[0m\u001b[1;33m=\u001b[0m\u001b[1;32mNone\u001b[0m\u001b[1;33m,\u001b[0m\u001b[1;33m\n",
      "\u001b[0m    \u001b[0mhovertemplate\u001b[0m\u001b[1;33m=\u001b[0m\u001b[1;32mNone\u001b[0m\u001b[1;33m,\u001b[0m\u001b[1;33m\n",
      "\u001b[0m    \u001b[0mhovertemplatesrc\u001b[0m\u001b[1;33m=\u001b[0m\u001b[1;32mNone\u001b[0m\u001b[1;33m,\u001b[0m\u001b[1;33m\n",
      "\u001b[0m    \u001b[0mhovertext\u001b[0m\u001b[1;33m=\u001b[0m\u001b[1;32mNone\u001b[0m\u001b[1;33m,\u001b[0m\u001b[1;33m\n",
      "\u001b[0m    \u001b[0mhovertextsrc\u001b[0m\u001b[1;33m=\u001b[0m\u001b[1;32mNone\u001b[0m\u001b[1;33m,\u001b[0m\u001b[1;33m\n",
      "\u001b[0m    \u001b[0mids\u001b[0m\u001b[1;33m=\u001b[0m\u001b[1;32mNone\u001b[0m\u001b[1;33m,\u001b[0m\u001b[1;33m\n",
      "\u001b[0m    \u001b[0midssrc\u001b[0m\u001b[1;33m=\u001b[0m\u001b[1;32mNone\u001b[0m\u001b[1;33m,\u001b[0m\u001b[1;33m\n",
      "\u001b[0m    \u001b[0minsidetextanchor\u001b[0m\u001b[1;33m=\u001b[0m\u001b[1;32mNone\u001b[0m\u001b[1;33m,\u001b[0m\u001b[1;33m\n",
      "\u001b[0m    \u001b[0minsidetextfont\u001b[0m\u001b[1;33m=\u001b[0m\u001b[1;32mNone\u001b[0m\u001b[1;33m,\u001b[0m\u001b[1;33m\n",
      "\u001b[0m    \u001b[0mlegend\u001b[0m\u001b[1;33m=\u001b[0m\u001b[1;32mNone\u001b[0m\u001b[1;33m,\u001b[0m\u001b[1;33m\n",
      "\u001b[0m    \u001b[0mlegendgroup\u001b[0m\u001b[1;33m=\u001b[0m\u001b[1;32mNone\u001b[0m\u001b[1;33m,\u001b[0m\u001b[1;33m\n",
      "\u001b[0m    \u001b[0mlegendgrouptitle\u001b[0m\u001b[1;33m=\u001b[0m\u001b[1;32mNone\u001b[0m\u001b[1;33m,\u001b[0m\u001b[1;33m\n",
      "\u001b[0m    \u001b[0mlegendrank\u001b[0m\u001b[1;33m=\u001b[0m\u001b[1;32mNone\u001b[0m\u001b[1;33m,\u001b[0m\u001b[1;33m\n",
      "\u001b[0m    \u001b[0mlegendwidth\u001b[0m\u001b[1;33m=\u001b[0m\u001b[1;32mNone\u001b[0m\u001b[1;33m,\u001b[0m\u001b[1;33m\n",
      "\u001b[0m    \u001b[0mmarker\u001b[0m\u001b[1;33m=\u001b[0m\u001b[1;32mNone\u001b[0m\u001b[1;33m,\u001b[0m\u001b[1;33m\n",
      "\u001b[0m    \u001b[0mmeta\u001b[0m\u001b[1;33m=\u001b[0m\u001b[1;32mNone\u001b[0m\u001b[1;33m,\u001b[0m\u001b[1;33m\n",
      "\u001b[0m    \u001b[0mmetasrc\u001b[0m\u001b[1;33m=\u001b[0m\u001b[1;32mNone\u001b[0m\u001b[1;33m,\u001b[0m\u001b[1;33m\n",
      "\u001b[0m    \u001b[0mname\u001b[0m\u001b[1;33m=\u001b[0m\u001b[1;32mNone\u001b[0m\u001b[1;33m,\u001b[0m\u001b[1;33m\n",
      "\u001b[0m    \u001b[0moffset\u001b[0m\u001b[1;33m=\u001b[0m\u001b[1;32mNone\u001b[0m\u001b[1;33m,\u001b[0m\u001b[1;33m\n",
      "\u001b[0m    \u001b[0moffsetgroup\u001b[0m\u001b[1;33m=\u001b[0m\u001b[1;32mNone\u001b[0m\u001b[1;33m,\u001b[0m\u001b[1;33m\n",
      "\u001b[0m    \u001b[0moffsetsrc\u001b[0m\u001b[1;33m=\u001b[0m\u001b[1;32mNone\u001b[0m\u001b[1;33m,\u001b[0m\u001b[1;33m\n",
      "\u001b[0m    \u001b[0mopacity\u001b[0m\u001b[1;33m=\u001b[0m\u001b[1;32mNone\u001b[0m\u001b[1;33m,\u001b[0m\u001b[1;33m\n",
      "\u001b[0m    \u001b[0morientation\u001b[0m\u001b[1;33m=\u001b[0m\u001b[1;32mNone\u001b[0m\u001b[1;33m,\u001b[0m\u001b[1;33m\n",
      "\u001b[0m    \u001b[0moutsidetextfont\u001b[0m\u001b[1;33m=\u001b[0m\u001b[1;32mNone\u001b[0m\u001b[1;33m,\u001b[0m\u001b[1;33m\n",
      "\u001b[0m    \u001b[0mselected\u001b[0m\u001b[1;33m=\u001b[0m\u001b[1;32mNone\u001b[0m\u001b[1;33m,\u001b[0m\u001b[1;33m\n",
      "\u001b[0m    \u001b[0mselectedpoints\u001b[0m\u001b[1;33m=\u001b[0m\u001b[1;32mNone\u001b[0m\u001b[1;33m,\u001b[0m\u001b[1;33m\n",
      "\u001b[0m    \u001b[0mshowlegend\u001b[0m\u001b[1;33m=\u001b[0m\u001b[1;32mNone\u001b[0m\u001b[1;33m,\u001b[0m\u001b[1;33m\n",
      "\u001b[0m    \u001b[0mstream\u001b[0m\u001b[1;33m=\u001b[0m\u001b[1;32mNone\u001b[0m\u001b[1;33m,\u001b[0m\u001b[1;33m\n",
      "\u001b[0m    \u001b[0mtext\u001b[0m\u001b[1;33m=\u001b[0m\u001b[1;32mNone\u001b[0m\u001b[1;33m,\u001b[0m\u001b[1;33m\n",
      "\u001b[0m    \u001b[0mtextangle\u001b[0m\u001b[1;33m=\u001b[0m\u001b[1;32mNone\u001b[0m\u001b[1;33m,\u001b[0m\u001b[1;33m\n",
      "\u001b[0m    \u001b[0mtextfont\u001b[0m\u001b[1;33m=\u001b[0m\u001b[1;32mNone\u001b[0m\u001b[1;33m,\u001b[0m\u001b[1;33m\n",
      "\u001b[0m    \u001b[0mtextposition\u001b[0m\u001b[1;33m=\u001b[0m\u001b[1;32mNone\u001b[0m\u001b[1;33m,\u001b[0m\u001b[1;33m\n",
      "\u001b[0m    \u001b[0mtextpositionsrc\u001b[0m\u001b[1;33m=\u001b[0m\u001b[1;32mNone\u001b[0m\u001b[1;33m,\u001b[0m\u001b[1;33m\n",
      "\u001b[0m    \u001b[0mtextsrc\u001b[0m\u001b[1;33m=\u001b[0m\u001b[1;32mNone\u001b[0m\u001b[1;33m,\u001b[0m\u001b[1;33m\n",
      "\u001b[0m    \u001b[0mtexttemplate\u001b[0m\u001b[1;33m=\u001b[0m\u001b[1;32mNone\u001b[0m\u001b[1;33m,\u001b[0m\u001b[1;33m\n",
      "\u001b[0m    \u001b[0mtexttemplatesrc\u001b[0m\u001b[1;33m=\u001b[0m\u001b[1;32mNone\u001b[0m\u001b[1;33m,\u001b[0m\u001b[1;33m\n",
      "\u001b[0m    \u001b[0muid\u001b[0m\u001b[1;33m=\u001b[0m\u001b[1;32mNone\u001b[0m\u001b[1;33m,\u001b[0m\u001b[1;33m\n",
      "\u001b[0m    \u001b[0muirevision\u001b[0m\u001b[1;33m=\u001b[0m\u001b[1;32mNone\u001b[0m\u001b[1;33m,\u001b[0m\u001b[1;33m\n",
      "\u001b[0m    \u001b[0munselected\u001b[0m\u001b[1;33m=\u001b[0m\u001b[1;32mNone\u001b[0m\u001b[1;33m,\u001b[0m\u001b[1;33m\n",
      "\u001b[0m    \u001b[0mvisible\u001b[0m\u001b[1;33m=\u001b[0m\u001b[1;32mNone\u001b[0m\u001b[1;33m,\u001b[0m\u001b[1;33m\n",
      "\u001b[0m    \u001b[0mwidth\u001b[0m\u001b[1;33m=\u001b[0m\u001b[1;32mNone\u001b[0m\u001b[1;33m,\u001b[0m\u001b[1;33m\n",
      "\u001b[0m    \u001b[0mwidthsrc\u001b[0m\u001b[1;33m=\u001b[0m\u001b[1;32mNone\u001b[0m\u001b[1;33m,\u001b[0m\u001b[1;33m\n",
      "\u001b[0m    \u001b[0mx\u001b[0m\u001b[1;33m=\u001b[0m\u001b[1;32mNone\u001b[0m\u001b[1;33m,\u001b[0m\u001b[1;33m\n",
      "\u001b[0m    \u001b[0mx0\u001b[0m\u001b[1;33m=\u001b[0m\u001b[1;32mNone\u001b[0m\u001b[1;33m,\u001b[0m\u001b[1;33m\n",
      "\u001b[0m    \u001b[0mxaxis\u001b[0m\u001b[1;33m=\u001b[0m\u001b[1;32mNone\u001b[0m\u001b[1;33m,\u001b[0m\u001b[1;33m\n",
      "\u001b[0m    \u001b[0mxcalendar\u001b[0m\u001b[1;33m=\u001b[0m\u001b[1;32mNone\u001b[0m\u001b[1;33m,\u001b[0m\u001b[1;33m\n",
      "\u001b[0m    \u001b[0mxhoverformat\u001b[0m\u001b[1;33m=\u001b[0m\u001b[1;32mNone\u001b[0m\u001b[1;33m,\u001b[0m\u001b[1;33m\n",
      "\u001b[0m    \u001b[0mxperiod\u001b[0m\u001b[1;33m=\u001b[0m\u001b[1;32mNone\u001b[0m\u001b[1;33m,\u001b[0m\u001b[1;33m\n",
      "\u001b[0m    \u001b[0mxperiod0\u001b[0m\u001b[1;33m=\u001b[0m\u001b[1;32mNone\u001b[0m\u001b[1;33m,\u001b[0m\u001b[1;33m\n",
      "\u001b[0m    \u001b[0mxperiodalignment\u001b[0m\u001b[1;33m=\u001b[0m\u001b[1;32mNone\u001b[0m\u001b[1;33m,\u001b[0m\u001b[1;33m\n",
      "\u001b[0m    \u001b[0mxsrc\u001b[0m\u001b[1;33m=\u001b[0m\u001b[1;32mNone\u001b[0m\u001b[1;33m,\u001b[0m\u001b[1;33m\n",
      "\u001b[0m    \u001b[0my\u001b[0m\u001b[1;33m=\u001b[0m\u001b[1;32mNone\u001b[0m\u001b[1;33m,\u001b[0m\u001b[1;33m\n",
      "\u001b[0m    \u001b[0my0\u001b[0m\u001b[1;33m=\u001b[0m\u001b[1;32mNone\u001b[0m\u001b[1;33m,\u001b[0m\u001b[1;33m\n",
      "\u001b[0m    \u001b[0myaxis\u001b[0m\u001b[1;33m=\u001b[0m\u001b[1;32mNone\u001b[0m\u001b[1;33m,\u001b[0m\u001b[1;33m\n",
      "\u001b[0m    \u001b[0mycalendar\u001b[0m\u001b[1;33m=\u001b[0m\u001b[1;32mNone\u001b[0m\u001b[1;33m,\u001b[0m\u001b[1;33m\n",
      "\u001b[0m    \u001b[0myhoverformat\u001b[0m\u001b[1;33m=\u001b[0m\u001b[1;32mNone\u001b[0m\u001b[1;33m,\u001b[0m\u001b[1;33m\n",
      "\u001b[0m    \u001b[0myperiod\u001b[0m\u001b[1;33m=\u001b[0m\u001b[1;32mNone\u001b[0m\u001b[1;33m,\u001b[0m\u001b[1;33m\n",
      "\u001b[0m    \u001b[0myperiod0\u001b[0m\u001b[1;33m=\u001b[0m\u001b[1;32mNone\u001b[0m\u001b[1;33m,\u001b[0m\u001b[1;33m\n",
      "\u001b[0m    \u001b[0myperiodalignment\u001b[0m\u001b[1;33m=\u001b[0m\u001b[1;32mNone\u001b[0m\u001b[1;33m,\u001b[0m\u001b[1;33m\n",
      "\u001b[0m    \u001b[0mysrc\u001b[0m\u001b[1;33m=\u001b[0m\u001b[1;32mNone\u001b[0m\u001b[1;33m,\u001b[0m\u001b[1;33m\n",
      "\u001b[0m    \u001b[0mzorder\u001b[0m\u001b[1;33m=\u001b[0m\u001b[1;32mNone\u001b[0m\u001b[1;33m,\u001b[0m\u001b[1;33m\n",
      "\u001b[0m    \u001b[1;33m**\u001b[0m\u001b[0mkwargs\u001b[0m\u001b[1;33m,\u001b[0m\u001b[1;33m\n",
      "\u001b[0m\u001b[1;33m)\u001b[0m\u001b[1;33m\u001b[0m\u001b[1;33m\u001b[0m\u001b[0m\n",
      "\u001b[1;31mDocstring:\u001b[0m     \n",
      "Base class for the all trace types.\n",
      "\n",
      "Specific trace type classes (Scatter, Bar, etc.) are code generated as\n",
      "subclasses of this class.\n",
      "\u001b[1;31mInit docstring:\u001b[0m\n",
      "Construct a new Bar object\n",
      "\n",
      "The data visualized by the span of the bars is set in `y` if\n",
      "`orientation` is set to \"v\" (the default) and the labels are\n",
      "set in `x`. By setting `orientation` to \"h\", the roles are\n",
      "interchanged.\n",
      "\n",
      "Parameters\n",
      "----------\n",
      "arg\n",
      "    dict of properties compatible with this constructor or\n",
      "    an instance of :class:`plotly.graph_objs.Bar`\n",
      "alignmentgroup\n",
      "    Set several traces linked to the same position axis or\n",
      "    matching axes to the same alignmentgroup. This controls\n",
      "    whether bars compute their positional range dependently\n",
      "    or independently.\n",
      "base\n",
      "    Sets where the bar base is drawn (in position axis\n",
      "    units). In \"stack\" or \"relative\" barmode, traces that\n",
      "    set \"base\" will be excluded and drawn in \"overlay\" mode\n",
      "    instead.\n",
      "basesrc\n",
      "    Sets the source reference on Chart Studio Cloud for\n",
      "    `base`.\n",
      "cliponaxis\n",
      "    Determines whether the text nodes are clipped about the\n",
      "    subplot axes. To show the text nodes above axis lines\n",
      "    and tick labels, make sure to set `xaxis.layer` and\n",
      "    `yaxis.layer` to *below traces*.\n",
      "constraintext\n",
      "    Constrain the size of text inside or outside a bar to\n",
      "    be no larger than the bar itself.\n",
      "customdata\n",
      "    Assigns extra data each datum. This may be useful when\n",
      "    listening to hover, click and selection events. Note\n",
      "    that, \"scatter\" traces also appends customdata items in\n",
      "    the markers DOM elements\n",
      "customdatasrc\n",
      "    Sets the source reference on Chart Studio Cloud for\n",
      "    `customdata`.\n",
      "dx\n",
      "    Sets the x coordinate step. See `x0` for more info.\n",
      "dy\n",
      "    Sets the y coordinate step. See `y0` for more info.\n",
      "error_x\n",
      "    :class:`plotly.graph_objects.bar.ErrorX` instance or\n",
      "    dict with compatible properties\n",
      "error_y\n",
      "    :class:`plotly.graph_objects.bar.ErrorY` instance or\n",
      "    dict with compatible properties\n",
      "hoverinfo\n",
      "    Determines which trace information appear on hover. If\n",
      "    `none` or `skip` are set, no information is displayed\n",
      "    upon hovering. But, if `none` is set, click and hover\n",
      "    events are still fired.\n",
      "hoverinfosrc\n",
      "    Sets the source reference on Chart Studio Cloud for\n",
      "    `hoverinfo`.\n",
      "hoverlabel\n",
      "    :class:`plotly.graph_objects.bar.Hoverlabel` instance\n",
      "    or dict with compatible properties\n",
      "hovertemplate\n",
      "    Template string used for rendering the information that\n",
      "    appear on hover box. Note that this will override\n",
      "    `hoverinfo`. Variables are inserted using %{variable},\n",
      "    for example \"y: %{y}\" as well as %{xother}, {%_xother},\n",
      "    {%_xother_}, {%xother_}. When showing info for several\n",
      "    points, \"xother\" will be added to those with different\n",
      "    x positions from the first point. An underscore before\n",
      "    or after \"(x|y)other\" will add a space on that side,\n",
      "    only when this field is shown. Numbers are formatted\n",
      "    using d3-format's syntax %{variable:d3-format}, for\n",
      "    example \"Price: %{y:$.2f}\".\n",
      "    https://github.com/d3/d3-format/tree/v1.4.5#d3-format\n",
      "    for details on the formatting syntax. Dates are\n",
      "    formatted using d3-time-format's syntax\n",
      "    %{variable|d3-time-format}, for example \"Day:\n",
      "    %{2019-01-01|%A}\". https://github.com/d3/d3-time-\n",
      "    format/tree/v2.2.3#locale_format for details on the\n",
      "    date formatting syntax. The variables available in\n",
      "    `hovertemplate` are the ones emitted as event data\n",
      "    described at this link\n",
      "    https://plotly.com/javascript/plotlyjs-events/#event-\n",
      "    data. Additionally, every attributes that can be\n",
      "    specified per-point (the ones that are `arrayOk: true`)\n",
      "    are available. Finally, the template string has access\n",
      "    to variables `value` and `label`. Anything contained in\n",
      "    tag `<extra>` is displayed in the secondary box, for\n",
      "    example \"<extra>{fullData.name}</extra>\". To hide the\n",
      "    secondary box completely, use an empty tag\n",
      "    `<extra></extra>`.\n",
      "hovertemplatesrc\n",
      "    Sets the source reference on Chart Studio Cloud for\n",
      "    `hovertemplate`.\n",
      "hovertext\n",
      "    Sets hover text elements associated with each (x,y)\n",
      "    pair. If a single string, the same string appears over\n",
      "    all the data points. If an array of string, the items\n",
      "    are mapped in order to the this trace's (x,y)\n",
      "    coordinates. To be seen, trace `hoverinfo` must contain\n",
      "    a \"text\" flag.\n",
      "hovertextsrc\n",
      "    Sets the source reference on Chart Studio Cloud for\n",
      "    `hovertext`.\n",
      "ids\n",
      "    Assigns id labels to each datum. These ids for object\n",
      "    constancy of data points during animation. Should be an\n",
      "    array of strings, not numbers or any other type.\n",
      "idssrc\n",
      "    Sets the source reference on Chart Studio Cloud for\n",
      "    `ids`.\n",
      "insidetextanchor\n",
      "    Determines if texts are kept at center or start/end\n",
      "    points in `textposition` \"inside\" mode.\n",
      "insidetextfont\n",
      "    Sets the font used for `text` lying inside the bar.\n",
      "legend\n",
      "    Sets the reference to a legend to show this trace in.\n",
      "    References to these legends are \"legend\", \"legend2\",\n",
      "    \"legend3\", etc. Settings for these legends are set in\n",
      "    the layout, under `layout.legend`, `layout.legend2`,\n",
      "    etc.\n",
      "legendgroup\n",
      "    Sets the legend group for this trace. Traces and shapes\n",
      "    part of the same legend group hide/show at the same\n",
      "    time when toggling legend items.\n",
      "legendgrouptitle\n",
      "    :class:`plotly.graph_objects.bar.Legendgrouptitle`\n",
      "    instance or dict with compatible properties\n",
      "legendrank\n",
      "    Sets the legend rank for this trace. Items and groups\n",
      "    with smaller ranks are presented on top/left side while\n",
      "    with \"reversed\" `legend.traceorder` they are on\n",
      "    bottom/right side. The default legendrank is 1000, so\n",
      "    that you can use ranks less than 1000 to place certain\n",
      "    items before all unranked items, and ranks greater than\n",
      "    1000 to go after all unranked items. When having\n",
      "    unranked or equal rank items shapes would be displayed\n",
      "    after traces i.e. according to their order in data and\n",
      "    layout.\n",
      "legendwidth\n",
      "    Sets the width (in px or fraction) of the legend for\n",
      "    this trace.\n",
      "marker\n",
      "    :class:`plotly.graph_objects.bar.Marker` instance or\n",
      "    dict with compatible properties\n",
      "meta\n",
      "    Assigns extra meta information associated with this\n",
      "    trace that can be used in various text attributes.\n",
      "    Attributes such as trace `name`, graph, axis and\n",
      "    colorbar `title.text`, annotation `text`\n",
      "    `rangeselector`, `updatemenues` and `sliders` `label`\n",
      "    text all support `meta`. To access the trace `meta`\n",
      "    values in an attribute in the same trace, simply use\n",
      "    `%{meta[i]}` where `i` is the index or key of the\n",
      "    `meta` item in question. To access trace `meta` in\n",
      "    layout attributes, use `%{data[n[.meta[i]}` where `i`\n",
      "    is the index or key of the `meta` and `n` is the trace\n",
      "    index.\n",
      "metasrc\n",
      "    Sets the source reference on Chart Studio Cloud for\n",
      "    `meta`.\n",
      "name\n",
      "    Sets the trace name. The trace name appears as the\n",
      "    legend item and on hover.\n",
      "offset\n",
      "    Shifts the position where the bar is drawn (in position\n",
      "    axis units). In \"group\" barmode, traces that set\n",
      "    \"offset\" will be excluded and drawn in \"overlay\" mode\n",
      "    instead.\n",
      "offsetgroup\n",
      "    Set several traces linked to the same position axis or\n",
      "    matching axes to the same offsetgroup where bars of the\n",
      "    same position coordinate will line up.\n",
      "offsetsrc\n",
      "    Sets the source reference on Chart Studio Cloud for\n",
      "    `offset`.\n",
      "opacity\n",
      "    Sets the opacity of the trace.\n",
      "orientation\n",
      "    Sets the orientation of the bars. With \"v\" (\"h\"), the\n",
      "    value of the each bar spans along the vertical\n",
      "    (horizontal).\n",
      "outsidetextfont\n",
      "    Sets the font used for `text` lying outside the bar.\n",
      "selected\n",
      "    :class:`plotly.graph_objects.bar.Selected` instance or\n",
      "    dict with compatible properties\n",
      "selectedpoints\n",
      "    Array containing integer indices of selected points.\n",
      "    Has an effect only for traces that support selections.\n",
      "    Note that an empty array means an empty selection where\n",
      "    the `unselected` are turned on for all points, whereas,\n",
      "    any other non-array values means no selection all where\n",
      "    the `selected` and `unselected` styles have no effect.\n",
      "showlegend\n",
      "    Determines whether or not an item corresponding to this\n",
      "    trace is shown in the legend.\n",
      "stream\n",
      "    :class:`plotly.graph_objects.bar.Stream` instance or\n",
      "    dict with compatible properties\n",
      "text\n",
      "    Sets text elements associated with each (x,y) pair. If\n",
      "    a single string, the same string appears over all the\n",
      "    data points. If an array of string, the items are\n",
      "    mapped in order to the this trace's (x,y) coordinates.\n",
      "    If trace `hoverinfo` contains a \"text\" flag and\n",
      "    \"hovertext\" is not set, these elements will be seen in\n",
      "    the hover labels.\n",
      "textangle\n",
      "    Sets the angle of the tick labels with respect to the\n",
      "    bar. For example, a `tickangle` of -90 draws the tick\n",
      "    labels vertically. With \"auto\" the texts may\n",
      "    automatically be rotated to fit with the maximum size\n",
      "    in bars.\n",
      "textfont\n",
      "    Sets the font used for `text`.\n",
      "textposition\n",
      "    Specifies the location of the `text`. \"inside\"\n",
      "    positions `text` inside, next to the bar end (rotated\n",
      "    and scaled if needed). \"outside\" positions `text`\n",
      "    outside, next to the bar end (scaled if needed), unless\n",
      "    there is another bar stacked on this one, then the text\n",
      "    gets pushed inside. \"auto\" tries to position `text`\n",
      "    inside the bar, but if the bar is too small and no bar\n",
      "    is stacked on this one the text is moved outside. If\n",
      "    \"none\", no text appears.\n",
      "textpositionsrc\n",
      "    Sets the source reference on Chart Studio Cloud for\n",
      "    `textposition`.\n",
      "textsrc\n",
      "    Sets the source reference on Chart Studio Cloud for\n",
      "    `text`.\n",
      "texttemplate\n",
      "    Template string used for rendering the information text\n",
      "    that appear on points. Note that this will override\n",
      "    `textinfo`. Variables are inserted using %{variable},\n",
      "    for example \"y: %{y}\". Numbers are formatted using\n",
      "    d3-format's syntax %{variable:d3-format}, for example\n",
      "    \"Price: %{y:$.2f}\".\n",
      "    https://github.com/d3/d3-format/tree/v1.4.5#d3-format\n",
      "    for details on the formatting syntax. Dates are\n",
      "    formatted using d3-time-format's syntax\n",
      "    %{variable|d3-time-format}, for example \"Day:\n",
      "    %{2019-01-01|%A}\". https://github.com/d3/d3-time-\n",
      "    format/tree/v2.2.3#locale_format for details on the\n",
      "    date formatting syntax. Every attributes that can be\n",
      "    specified per-point (the ones that are `arrayOk: true`)\n",
      "    are available. Finally, the template string has access\n",
      "    to variables `value` and `label`.\n",
      "texttemplatesrc\n",
      "    Sets the source reference on Chart Studio Cloud for\n",
      "    `texttemplate`.\n",
      "uid\n",
      "    Assign an id to this trace, Use this to provide object\n",
      "    constancy between traces during animations and\n",
      "    transitions.\n",
      "uirevision\n",
      "    Controls persistence of some user-driven changes to the\n",
      "    trace: `constraintrange` in `parcoords` traces, as well\n",
      "    as some `editable: true` modifications such as `name`\n",
      "    and `colorbar.title`. Defaults to `layout.uirevision`.\n",
      "    Note that other user-driven trace attribute changes are\n",
      "    controlled by `layout` attributes: `trace.visible` is\n",
      "    controlled by `layout.legend.uirevision`,\n",
      "    `selectedpoints` is controlled by\n",
      "    `layout.selectionrevision`, and `colorbar.(x|y)`\n",
      "    (accessible with `config: {editable: true}`) is\n",
      "    controlled by `layout.editrevision`. Trace changes are\n",
      "    tracked by `uid`, which only falls back on trace index\n",
      "    if no `uid` is provided. So if your app can add/remove\n",
      "    traces before the end of the `data` array, such that\n",
      "    the same trace has a different index, you can still\n",
      "    preserve user-driven changes if you give each trace a\n",
      "    `uid` that stays with it as it moves.\n",
      "unselected\n",
      "    :class:`plotly.graph_objects.bar.Unselected` instance\n",
      "    or dict with compatible properties\n",
      "visible\n",
      "    Determines whether or not this trace is visible. If\n",
      "    \"legendonly\", the trace is not drawn, but can appear as\n",
      "    a legend item (provided that the legend itself is\n",
      "    visible).\n",
      "width\n",
      "    Sets the bar width (in position axis units).\n",
      "widthsrc\n",
      "    Sets the source reference on Chart Studio Cloud for\n",
      "    `width`.\n",
      "x\n",
      "    Sets the x coordinates.\n",
      "x0\n",
      "    Alternate to `x`. Builds a linear space of x\n",
      "    coordinates. Use with `dx` where `x0` is the starting\n",
      "    coordinate and `dx` the step.\n",
      "xaxis\n",
      "    Sets a reference between this trace's x coordinates and\n",
      "    a 2D cartesian x axis. If \"x\" (the default value), the\n",
      "    x coordinates refer to `layout.xaxis`. If \"x2\", the x\n",
      "    coordinates refer to `layout.xaxis2`, and so on.\n",
      "xcalendar\n",
      "    Sets the calendar system to use with `x` date data.\n",
      "xhoverformat\n",
      "    Sets the hover text formatting rulefor `x`  using d3\n",
      "    formatting mini-languages which are very similar to\n",
      "    those in Python. For numbers, see:\n",
      "    https://github.com/d3/d3-format/tree/v1.4.5#d3-format.\n",
      "    And for dates see: https://github.com/d3/d3-time-\n",
      "    format/tree/v2.2.3#locale_format. We add two items to\n",
      "    d3's date formatter: \"%h\" for half of the year as a\n",
      "    decimal number as well as \"%{n}f\" for fractional\n",
      "    seconds with n digits. For example, *2016-10-13\n",
      "    09:15:23.456* with tickformat \"%H~%M~%S.%2f\" would\n",
      "    display *09~15~23.46*By default the values are\n",
      "    formatted using `xaxis.hoverformat`.\n",
      "xperiod\n",
      "    Only relevant when the axis `type` is \"date\". Sets the\n",
      "    period positioning in milliseconds or \"M<n>\" on the x\n",
      "    axis. Special values in the form of \"M<n>\" could be\n",
      "    used to declare the number of months. In this case `n`\n",
      "    must be a positive integer.\n",
      "xperiod0\n",
      "    Only relevant when the axis `type` is \"date\". Sets the\n",
      "    base for period positioning in milliseconds or date\n",
      "    string on the x0 axis. When `x0period` is round number\n",
      "    of weeks, the `x0period0` by default would be on a\n",
      "    Sunday i.e. 2000-01-02, otherwise it would be at\n",
      "    2000-01-01.\n",
      "xperiodalignment\n",
      "    Only relevant when the axis `type` is \"date\". Sets the\n",
      "    alignment of data points on the x axis.\n",
      "xsrc\n",
      "    Sets the source reference on Chart Studio Cloud for\n",
      "    `x`.\n",
      "y\n",
      "    Sets the y coordinates.\n",
      "y0\n",
      "    Alternate to `y`. Builds a linear space of y\n",
      "    coordinates. Use with `dy` where `y0` is the starting\n",
      "    coordinate and `dy` the step.\n",
      "yaxis\n",
      "    Sets a reference between this trace's y coordinates and\n",
      "    a 2D cartesian y axis. If \"y\" (the default value), the\n",
      "    y coordinates refer to `layout.yaxis`. If \"y2\", the y\n",
      "    coordinates refer to `layout.yaxis2`, and so on.\n",
      "ycalendar\n",
      "    Sets the calendar system to use with `y` date data.\n",
      "yhoverformat\n",
      "    Sets the hover text formatting rulefor `y`  using d3\n",
      "    formatting mini-languages which are very similar to\n",
      "    those in Python. For numbers, see:\n",
      "    https://github.com/d3/d3-format/tree/v1.4.5#d3-format.\n",
      "    And for dates see: https://github.com/d3/d3-time-\n",
      "    format/tree/v2.2.3#locale_format. We add two items to\n",
      "    d3's date formatter: \"%h\" for half of the year as a\n",
      "    decimal number as well as \"%{n}f\" for fractional\n",
      "    seconds with n digits. For example, *2016-10-13\n",
      "    09:15:23.456* with tickformat \"%H~%M~%S.%2f\" would\n",
      "    display *09~15~23.46*By default the values are\n",
      "    formatted using `yaxis.hoverformat`.\n",
      "yperiod\n",
      "    Only relevant when the axis `type` is \"date\". Sets the\n",
      "    period positioning in milliseconds or \"M<n>\" on the y\n",
      "    axis. Special values in the form of \"M<n>\" could be\n",
      "    used to declare the number of months. In this case `n`\n",
      "    must be a positive integer.\n",
      "yperiod0\n",
      "    Only relevant when the axis `type` is \"date\". Sets the\n",
      "    base for period positioning in milliseconds or date\n",
      "    string on the y0 axis. When `y0period` is round number\n",
      "    of weeks, the `y0period0` by default would be on a\n",
      "    Sunday i.e. 2000-01-02, otherwise it would be at\n",
      "    2000-01-01.\n",
      "yperiodalignment\n",
      "    Only relevant when the axis `type` is \"date\". Sets the\n",
      "    alignment of data points on the y axis.\n",
      "ysrc\n",
      "    Sets the source reference on Chart Studio Cloud for\n",
      "    `y`.\n",
      "zorder\n",
      "    Sets the layer on which this trace is displayed,\n",
      "    relative to other SVG traces on the same subplot. SVG\n",
      "    traces with higher `zorder` appear in front of those\n",
      "    with lower `zorder`.\n",
      "\n",
      "Returns\n",
      "-------\n",
      "Bar\n",
      "\u001b[1;31mFile:\u001b[0m           c:\\users\\calsm\\anaconda3\\envs\\arena\\lib\\site-packages\\plotly\\graph_objs\\_bar.py\n",
      "\u001b[1;31mType:\u001b[0m           type\n",
      "\u001b[1;31mSubclasses:\u001b[0m     "
     ]
    }
   ],
   "source": [
    "go.Bar?"
   ]
  },
  {
   "cell_type": "code",
   "execution_count": 171,
   "metadata": {},
   "outputs": [
    {
     "name": "stdout",
     "output_type": "stream",
     "text": [
      "\u001b[1;31mInit signature:\u001b[0m\n",
      "\u001b[0mgo\u001b[0m\u001b[1;33m.\u001b[0m\u001b[0mbar\u001b[0m\u001b[1;33m.\u001b[0m\u001b[0mMarker\u001b[0m\u001b[1;33m(\u001b[0m\u001b[1;33m\n",
      "\u001b[0m    \u001b[0marg\u001b[0m\u001b[1;33m=\u001b[0m\u001b[1;32mNone\u001b[0m\u001b[1;33m,\u001b[0m\u001b[1;33m\n",
      "\u001b[0m    \u001b[0mautocolorscale\u001b[0m\u001b[1;33m=\u001b[0m\u001b[1;32mNone\u001b[0m\u001b[1;33m,\u001b[0m\u001b[1;33m\n",
      "\u001b[0m    \u001b[0mcauto\u001b[0m\u001b[1;33m=\u001b[0m\u001b[1;32mNone\u001b[0m\u001b[1;33m,\u001b[0m\u001b[1;33m\n",
      "\u001b[0m    \u001b[0mcmax\u001b[0m\u001b[1;33m=\u001b[0m\u001b[1;32mNone\u001b[0m\u001b[1;33m,\u001b[0m\u001b[1;33m\n",
      "\u001b[0m    \u001b[0mcmid\u001b[0m\u001b[1;33m=\u001b[0m\u001b[1;32mNone\u001b[0m\u001b[1;33m,\u001b[0m\u001b[1;33m\n",
      "\u001b[0m    \u001b[0mcmin\u001b[0m\u001b[1;33m=\u001b[0m\u001b[1;32mNone\u001b[0m\u001b[1;33m,\u001b[0m\u001b[1;33m\n",
      "\u001b[0m    \u001b[0mcolor\u001b[0m\u001b[1;33m=\u001b[0m\u001b[1;32mNone\u001b[0m\u001b[1;33m,\u001b[0m\u001b[1;33m\n",
      "\u001b[0m    \u001b[0mcoloraxis\u001b[0m\u001b[1;33m=\u001b[0m\u001b[1;32mNone\u001b[0m\u001b[1;33m,\u001b[0m\u001b[1;33m\n",
      "\u001b[0m    \u001b[0mcolorbar\u001b[0m\u001b[1;33m=\u001b[0m\u001b[1;32mNone\u001b[0m\u001b[1;33m,\u001b[0m\u001b[1;33m\n",
      "\u001b[0m    \u001b[0mcolorscale\u001b[0m\u001b[1;33m=\u001b[0m\u001b[1;32mNone\u001b[0m\u001b[1;33m,\u001b[0m\u001b[1;33m\n",
      "\u001b[0m    \u001b[0mcolorsrc\u001b[0m\u001b[1;33m=\u001b[0m\u001b[1;32mNone\u001b[0m\u001b[1;33m,\u001b[0m\u001b[1;33m\n",
      "\u001b[0m    \u001b[0mcornerradius\u001b[0m\u001b[1;33m=\u001b[0m\u001b[1;32mNone\u001b[0m\u001b[1;33m,\u001b[0m\u001b[1;33m\n",
      "\u001b[0m    \u001b[0mline\u001b[0m\u001b[1;33m=\u001b[0m\u001b[1;32mNone\u001b[0m\u001b[1;33m,\u001b[0m\u001b[1;33m\n",
      "\u001b[0m    \u001b[0mopacity\u001b[0m\u001b[1;33m=\u001b[0m\u001b[1;32mNone\u001b[0m\u001b[1;33m,\u001b[0m\u001b[1;33m\n",
      "\u001b[0m    \u001b[0mopacitysrc\u001b[0m\u001b[1;33m=\u001b[0m\u001b[1;32mNone\u001b[0m\u001b[1;33m,\u001b[0m\u001b[1;33m\n",
      "\u001b[0m    \u001b[0mpattern\u001b[0m\u001b[1;33m=\u001b[0m\u001b[1;32mNone\u001b[0m\u001b[1;33m,\u001b[0m\u001b[1;33m\n",
      "\u001b[0m    \u001b[0mreversescale\u001b[0m\u001b[1;33m=\u001b[0m\u001b[1;32mNone\u001b[0m\u001b[1;33m,\u001b[0m\u001b[1;33m\n",
      "\u001b[0m    \u001b[0mshowscale\u001b[0m\u001b[1;33m=\u001b[0m\u001b[1;32mNone\u001b[0m\u001b[1;33m,\u001b[0m\u001b[1;33m\n",
      "\u001b[0m    \u001b[1;33m**\u001b[0m\u001b[0mkwargs\u001b[0m\u001b[1;33m,\u001b[0m\u001b[1;33m\n",
      "\u001b[0m\u001b[1;33m)\u001b[0m\u001b[1;33m\u001b[0m\u001b[1;33m\u001b[0m\u001b[0m\n",
      "\u001b[1;31mDocstring:\u001b[0m      Base class for all types in the trace hierarchy\n",
      "\u001b[1;31mInit docstring:\u001b[0m\n",
      "Construct a new Marker object\n",
      "\n",
      "Parameters\n",
      "----------\n",
      "arg\n",
      "    dict of properties compatible with this constructor or\n",
      "    an instance of :class:`plotly.graph_objs.bar.Marker`\n",
      "autocolorscale\n",
      "    Determines whether the colorscale is a default palette\n",
      "    (`autocolorscale: true`) or the palette determined by\n",
      "    `marker.colorscale`. Has an effect only if in\n",
      "    `marker.color` is set to a numerical array. In case\n",
      "    `colorscale` is unspecified or `autocolorscale` is\n",
      "    true, the default palette will be chosen according to\n",
      "    whether numbers in the `color` array are all positive,\n",
      "    all negative or mixed.\n",
      "cauto\n",
      "    Determines whether or not the color domain is computed\n",
      "    with respect to the input data (here in `marker.color`)\n",
      "    or the bounds set in `marker.cmin` and `marker.cmax`\n",
      "    Has an effect only if in `marker.color` is set to a\n",
      "    numerical array. Defaults to `false` when `marker.cmin`\n",
      "    and `marker.cmax` are set by the user.\n",
      "cmax\n",
      "    Sets the upper bound of the color domain. Has an effect\n",
      "    only if in `marker.color` is set to a numerical array.\n",
      "    Value should have the same units as in `marker.color`\n",
      "    and if set, `marker.cmin` must be set as well.\n",
      "cmid\n",
      "    Sets the mid-point of the color domain by scaling\n",
      "    `marker.cmin` and/or `marker.cmax` to be equidistant to\n",
      "    this point. Has an effect only if in `marker.color` is\n",
      "    set to a numerical array. Value should have the same\n",
      "    units as in `marker.color`. Has no effect when\n",
      "    `marker.cauto` is `false`.\n",
      "cmin\n",
      "    Sets the lower bound of the color domain. Has an effect\n",
      "    only if in `marker.color` is set to a numerical array.\n",
      "    Value should have the same units as in `marker.color`\n",
      "    and if set, `marker.cmax` must be set as well.\n",
      "color\n",
      "    Sets the marker color. It accepts either a specific\n",
      "    color or an array of numbers that are mapped to the\n",
      "    colorscale relative to the max and min values of the\n",
      "    array or relative to `marker.cmin` and `marker.cmax` if\n",
      "    set.\n",
      "coloraxis\n",
      "    Sets a reference to a shared color axis. References to\n",
      "    these shared color axes are \"coloraxis\", \"coloraxis2\",\n",
      "    \"coloraxis3\", etc. Settings for these shared color axes\n",
      "    are set in the layout, under `layout.coloraxis`,\n",
      "    `layout.coloraxis2`, etc. Note that multiple color\n",
      "    scales can be linked to the same color axis.\n",
      "colorbar\n",
      "    :class:`plotly.graph_objects.bar.marker.ColorBar`\n",
      "    instance or dict with compatible properties\n",
      "colorscale\n",
      "    Sets the colorscale. Has an effect only if in\n",
      "    `marker.color` is set to a numerical array. The\n",
      "    colorscale must be an array containing arrays mapping a\n",
      "    normalized value to an rgb, rgba, hex, hsl, hsv, or\n",
      "    named color string. At minimum, a mapping for the\n",
      "    lowest (0) and highest (1) values are required. For\n",
      "    example, `[[0, 'rgb(0,0,255)'], [1, 'rgb(255,0,0)']]`.\n",
      "    To control the bounds of the colorscale in color space,\n",
      "    use `marker.cmin` and `marker.cmax`. Alternatively,\n",
      "    `colorscale` may be a palette name string of the\n",
      "    following list: Blackbody,Bluered,Blues,Cividis,Earth,E\n",
      "    lectric,Greens,Greys,Hot,Jet,Picnic,Portland,Rainbow,Rd\n",
      "    Bu,Reds,Viridis,YlGnBu,YlOrRd.\n",
      "colorsrc\n",
      "    Sets the source reference on Chart Studio Cloud for\n",
      "    `color`.\n",
      "cornerradius\n",
      "    Sets the rounding of corners. May be an integer number\n",
      "    of pixels, or a percentage of bar width (as a string\n",
      "    ending in %). Defaults to `layout.barcornerradius`. In\n",
      "    stack or relative barmode, the first trace to set\n",
      "    cornerradius is used for the whole stack.\n",
      "line\n",
      "    :class:`plotly.graph_objects.bar.marker.Line` instance\n",
      "    or dict with compatible properties\n",
      "opacity\n",
      "    Sets the opacity of the bars.\n",
      "opacitysrc\n",
      "    Sets the source reference on Chart Studio Cloud for\n",
      "    `opacity`.\n",
      "pattern\n",
      "    Sets the pattern within the marker.\n",
      "reversescale\n",
      "    Reverses the color mapping if true. Has an effect only\n",
      "    if in `marker.color` is set to a numerical array. If\n",
      "    true, `marker.cmin` will correspond to the last color\n",
      "    in the array and `marker.cmax` will correspond to the\n",
      "    first color.\n",
      "showscale\n",
      "    Determines whether or not a colorbar is displayed for\n",
      "    this trace. Has an effect only if in `marker.color` is\n",
      "    set to a numerical array.\n",
      "\n",
      "Returns\n",
      "-------\n",
      "Marker\n",
      "\u001b[1;31mFile:\u001b[0m           c:\\users\\calsm\\anaconda3\\envs\\arena\\lib\\site-packages\\plotly\\graph_objs\\bar\\_marker.py\n",
      "\u001b[1;31mType:\u001b[0m           type\n",
      "\u001b[1;31mSubclasses:\u001b[0m     "
     ]
    }
   ],
   "source": [
    "go.bar.Marker?"
   ]
  },
  {
   "cell_type": "code",
   "execution_count": 190,
   "metadata": {},
   "outputs": [
    {
     "data": {
      "application/vnd.plotly.v1+json": {
       "config": {
        "plotlyServerURL": "https://plot.ly"
       },
       "data": [
        {
         "marker": {
          "color": "DarkBlue"
         },
         "name": "Word Count",
         "type": "bar",
         "x": [
          0,
          1,
          2,
          3,
          4,
          5,
          7,
          8,
          9,
          10,
          11,
          12,
          13,
          14,
          15,
          18,
          19
         ],
         "y": [
          10845,
          12755,
          22244,
          13914,
          19404,
          21157,
          27433,
          30089,
          29715,
          79116,
          40300,
          19998,
          20799,
          24297,
          33808,
          11104,
          8859
         ]
        },
        {
         "marker": {
          "color": "DodgerBlue"
         },
         "name": "Exercise Count",
         "type": "bar",
         "x": [
          0.4,
          1.4,
          2.4,
          3.4,
          4.4,
          5.4,
          7.4,
          8.4,
          9.4,
          10.4,
          11.4,
          12.4,
          13.4,
          14.4,
          15.4,
          18.4,
          19.4
         ],
         "y": [
          17,
          10,
          24,
          9,
          19,
          12,
          10,
          24,
          21,
          45,
          16,
          11,
          15,
          17,
          16,
          10,
          17
         ],
         "yaxis": "y2"
        }
       ],
       "layout": {
        "bargap": 0.6,
        "height": 500,
        "hovermode": "x unified",
        "template": {
         "data": {
          "bar": [
           {
            "error_x": {
             "color": "#2a3f5f"
            },
            "error_y": {
             "color": "#2a3f5f"
            },
            "marker": {
             "line": {
              "color": "#E5ECF6",
              "width": 0.5
             },
             "pattern": {
              "fillmode": "overlay",
              "size": 10,
              "solidity": 0.2
             }
            },
            "type": "bar"
           }
          ],
          "barpolar": [
           {
            "marker": {
             "line": {
              "color": "#E5ECF6",
              "width": 0.5
             },
             "pattern": {
              "fillmode": "overlay",
              "size": 10,
              "solidity": 0.2
             }
            },
            "type": "barpolar"
           }
          ],
          "carpet": [
           {
            "aaxis": {
             "endlinecolor": "#2a3f5f",
             "gridcolor": "white",
             "linecolor": "white",
             "minorgridcolor": "white",
             "startlinecolor": "#2a3f5f"
            },
            "baxis": {
             "endlinecolor": "#2a3f5f",
             "gridcolor": "white",
             "linecolor": "white",
             "minorgridcolor": "white",
             "startlinecolor": "#2a3f5f"
            },
            "type": "carpet"
           }
          ],
          "choropleth": [
           {
            "colorbar": {
             "outlinewidth": 0,
             "ticks": ""
            },
            "type": "choropleth"
           }
          ],
          "contour": [
           {
            "colorbar": {
             "outlinewidth": 0,
             "ticks": ""
            },
            "colorscale": [
             [
              0,
              "#0d0887"
             ],
             [
              0.1111111111111111,
              "#46039f"
             ],
             [
              0.2222222222222222,
              "#7201a8"
             ],
             [
              0.3333333333333333,
              "#9c179e"
             ],
             [
              0.4444444444444444,
              "#bd3786"
             ],
             [
              0.5555555555555556,
              "#d8576b"
             ],
             [
              0.6666666666666666,
              "#ed7953"
             ],
             [
              0.7777777777777778,
              "#fb9f3a"
             ],
             [
              0.8888888888888888,
              "#fdca26"
             ],
             [
              1,
              "#f0f921"
             ]
            ],
            "type": "contour"
           }
          ],
          "contourcarpet": [
           {
            "colorbar": {
             "outlinewidth": 0,
             "ticks": ""
            },
            "type": "contourcarpet"
           }
          ],
          "heatmap": [
           {
            "colorbar": {
             "outlinewidth": 0,
             "ticks": ""
            },
            "colorscale": [
             [
              0,
              "#0d0887"
             ],
             [
              0.1111111111111111,
              "#46039f"
             ],
             [
              0.2222222222222222,
              "#7201a8"
             ],
             [
              0.3333333333333333,
              "#9c179e"
             ],
             [
              0.4444444444444444,
              "#bd3786"
             ],
             [
              0.5555555555555556,
              "#d8576b"
             ],
             [
              0.6666666666666666,
              "#ed7953"
             ],
             [
              0.7777777777777778,
              "#fb9f3a"
             ],
             [
              0.8888888888888888,
              "#fdca26"
             ],
             [
              1,
              "#f0f921"
             ]
            ],
            "type": "heatmap"
           }
          ],
          "heatmapgl": [
           {
            "colorbar": {
             "outlinewidth": 0,
             "ticks": ""
            },
            "colorscale": [
             [
              0,
              "#0d0887"
             ],
             [
              0.1111111111111111,
              "#46039f"
             ],
             [
              0.2222222222222222,
              "#7201a8"
             ],
             [
              0.3333333333333333,
              "#9c179e"
             ],
             [
              0.4444444444444444,
              "#bd3786"
             ],
             [
              0.5555555555555556,
              "#d8576b"
             ],
             [
              0.6666666666666666,
              "#ed7953"
             ],
             [
              0.7777777777777778,
              "#fb9f3a"
             ],
             [
              0.8888888888888888,
              "#fdca26"
             ],
             [
              1,
              "#f0f921"
             ]
            ],
            "type": "heatmapgl"
           }
          ],
          "histogram": [
           {
            "marker": {
             "pattern": {
              "fillmode": "overlay",
              "size": 10,
              "solidity": 0.2
             }
            },
            "type": "histogram"
           }
          ],
          "histogram2d": [
           {
            "colorbar": {
             "outlinewidth": 0,
             "ticks": ""
            },
            "colorscale": [
             [
              0,
              "#0d0887"
             ],
             [
              0.1111111111111111,
              "#46039f"
             ],
             [
              0.2222222222222222,
              "#7201a8"
             ],
             [
              0.3333333333333333,
              "#9c179e"
             ],
             [
              0.4444444444444444,
              "#bd3786"
             ],
             [
              0.5555555555555556,
              "#d8576b"
             ],
             [
              0.6666666666666666,
              "#ed7953"
             ],
             [
              0.7777777777777778,
              "#fb9f3a"
             ],
             [
              0.8888888888888888,
              "#fdca26"
             ],
             [
              1,
              "#f0f921"
             ]
            ],
            "type": "histogram2d"
           }
          ],
          "histogram2dcontour": [
           {
            "colorbar": {
             "outlinewidth": 0,
             "ticks": ""
            },
            "colorscale": [
             [
              0,
              "#0d0887"
             ],
             [
              0.1111111111111111,
              "#46039f"
             ],
             [
              0.2222222222222222,
              "#7201a8"
             ],
             [
              0.3333333333333333,
              "#9c179e"
             ],
             [
              0.4444444444444444,
              "#bd3786"
             ],
             [
              0.5555555555555556,
              "#d8576b"
             ],
             [
              0.6666666666666666,
              "#ed7953"
             ],
             [
              0.7777777777777778,
              "#fb9f3a"
             ],
             [
              0.8888888888888888,
              "#fdca26"
             ],
             [
              1,
              "#f0f921"
             ]
            ],
            "type": "histogram2dcontour"
           }
          ],
          "mesh3d": [
           {
            "colorbar": {
             "outlinewidth": 0,
             "ticks": ""
            },
            "type": "mesh3d"
           }
          ],
          "parcoords": [
           {
            "line": {
             "colorbar": {
              "outlinewidth": 0,
              "ticks": ""
             }
            },
            "type": "parcoords"
           }
          ],
          "pie": [
           {
            "automargin": true,
            "type": "pie"
           }
          ],
          "scatter": [
           {
            "fillpattern": {
             "fillmode": "overlay",
             "size": 10,
             "solidity": 0.2
            },
            "type": "scatter"
           }
          ],
          "scatter3d": [
           {
            "line": {
             "colorbar": {
              "outlinewidth": 0,
              "ticks": ""
             }
            },
            "marker": {
             "colorbar": {
              "outlinewidth": 0,
              "ticks": ""
             }
            },
            "type": "scatter3d"
           }
          ],
          "scattercarpet": [
           {
            "marker": {
             "colorbar": {
              "outlinewidth": 0,
              "ticks": ""
             }
            },
            "type": "scattercarpet"
           }
          ],
          "scattergeo": [
           {
            "marker": {
             "colorbar": {
              "outlinewidth": 0,
              "ticks": ""
             }
            },
            "type": "scattergeo"
           }
          ],
          "scattergl": [
           {
            "marker": {
             "colorbar": {
              "outlinewidth": 0,
              "ticks": ""
             }
            },
            "type": "scattergl"
           }
          ],
          "scattermapbox": [
           {
            "marker": {
             "colorbar": {
              "outlinewidth": 0,
              "ticks": ""
             }
            },
            "type": "scattermapbox"
           }
          ],
          "scatterpolar": [
           {
            "marker": {
             "colorbar": {
              "outlinewidth": 0,
              "ticks": ""
             }
            },
            "type": "scatterpolar"
           }
          ],
          "scatterpolargl": [
           {
            "marker": {
             "colorbar": {
              "outlinewidth": 0,
              "ticks": ""
             }
            },
            "type": "scatterpolargl"
           }
          ],
          "scatterternary": [
           {
            "marker": {
             "colorbar": {
              "outlinewidth": 0,
              "ticks": ""
             }
            },
            "type": "scatterternary"
           }
          ],
          "surface": [
           {
            "colorbar": {
             "outlinewidth": 0,
             "ticks": ""
            },
            "colorscale": [
             [
              0,
              "#0d0887"
             ],
             [
              0.1111111111111111,
              "#46039f"
             ],
             [
              0.2222222222222222,
              "#7201a8"
             ],
             [
              0.3333333333333333,
              "#9c179e"
             ],
             [
              0.4444444444444444,
              "#bd3786"
             ],
             [
              0.5555555555555556,
              "#d8576b"
             ],
             [
              0.6666666666666666,
              "#ed7953"
             ],
             [
              0.7777777777777778,
              "#fb9f3a"
             ],
             [
              0.8888888888888888,
              "#fdca26"
             ],
             [
              1,
              "#f0f921"
             ]
            ],
            "type": "surface"
           }
          ],
          "table": [
           {
            "cells": {
             "fill": {
              "color": "#EBF0F8"
             },
             "line": {
              "color": "white"
             }
            },
            "header": {
             "fill": {
              "color": "#C8D4E3"
             },
             "line": {
              "color": "white"
             }
            },
            "type": "table"
           }
          ]
         },
         "layout": {
          "annotationdefaults": {
           "arrowcolor": "#2a3f5f",
           "arrowhead": 0,
           "arrowwidth": 1
          },
          "autotypenumbers": "strict",
          "coloraxis": {
           "colorbar": {
            "outlinewidth": 0,
            "ticks": ""
           }
          },
          "colorscale": {
           "diverging": [
            [
             0,
             "#8e0152"
            ],
            [
             0.1,
             "#c51b7d"
            ],
            [
             0.2,
             "#de77ae"
            ],
            [
             0.3,
             "#f1b6da"
            ],
            [
             0.4,
             "#fde0ef"
            ],
            [
             0.5,
             "#f7f7f7"
            ],
            [
             0.6,
             "#e6f5d0"
            ],
            [
             0.7,
             "#b8e186"
            ],
            [
             0.8,
             "#7fbc41"
            ],
            [
             0.9,
             "#4d9221"
            ],
            [
             1,
             "#276419"
            ]
           ],
           "sequential": [
            [
             0,
             "#0d0887"
            ],
            [
             0.1111111111111111,
             "#46039f"
            ],
            [
             0.2222222222222222,
             "#7201a8"
            ],
            [
             0.3333333333333333,
             "#9c179e"
            ],
            [
             0.4444444444444444,
             "#bd3786"
            ],
            [
             0.5555555555555556,
             "#d8576b"
            ],
            [
             0.6666666666666666,
             "#ed7953"
            ],
            [
             0.7777777777777778,
             "#fb9f3a"
            ],
            [
             0.8888888888888888,
             "#fdca26"
            ],
            [
             1,
             "#f0f921"
            ]
           ],
           "sequentialminus": [
            [
             0,
             "#0d0887"
            ],
            [
             0.1111111111111111,
             "#46039f"
            ],
            [
             0.2222222222222222,
             "#7201a8"
            ],
            [
             0.3333333333333333,
             "#9c179e"
            ],
            [
             0.4444444444444444,
             "#bd3786"
            ],
            [
             0.5555555555555556,
             "#d8576b"
            ],
            [
             0.6666666666666666,
             "#ed7953"
            ],
            [
             0.7777777777777778,
             "#fb9f3a"
            ],
            [
             0.8888888888888888,
             "#fdca26"
            ],
            [
             1,
             "#f0f921"
            ]
           ]
          },
          "colorway": [
           "#636efa",
           "#EF553B",
           "#00cc96",
           "#ab63fa",
           "#FFA15A",
           "#19d3f3",
           "#FF6692",
           "#B6E880",
           "#FF97FF",
           "#FECB52"
          ],
          "font": {
           "color": "#2a3f5f"
          },
          "geo": {
           "bgcolor": "white",
           "lakecolor": "white",
           "landcolor": "#E5ECF6",
           "showlakes": true,
           "showland": true,
           "subunitcolor": "white"
          },
          "hoverlabel": {
           "align": "left"
          },
          "hovermode": "closest",
          "mapbox": {
           "style": "light"
          },
          "paper_bgcolor": "white",
          "plot_bgcolor": "#E5ECF6",
          "polar": {
           "angularaxis": {
            "gridcolor": "white",
            "linecolor": "white",
            "ticks": ""
           },
           "bgcolor": "#E5ECF6",
           "radialaxis": {
            "gridcolor": "white",
            "linecolor": "white",
            "ticks": ""
           }
          },
          "scene": {
           "xaxis": {
            "backgroundcolor": "#E5ECF6",
            "gridcolor": "white",
            "gridwidth": 2,
            "linecolor": "white",
            "showbackground": true,
            "ticks": "",
            "zerolinecolor": "white"
           },
           "yaxis": {
            "backgroundcolor": "#E5ECF6",
            "gridcolor": "white",
            "gridwidth": 2,
            "linecolor": "white",
            "showbackground": true,
            "ticks": "",
            "zerolinecolor": "white"
           },
           "zaxis": {
            "backgroundcolor": "#E5ECF6",
            "gridcolor": "white",
            "gridwidth": 2,
            "linecolor": "white",
            "showbackground": true,
            "ticks": "",
            "zerolinecolor": "white"
           }
          },
          "shapedefaults": {
           "line": {
            "color": "#2a3f5f"
           }
          },
          "ternary": {
           "aaxis": {
            "gridcolor": "white",
            "linecolor": "white",
            "ticks": ""
           },
           "baxis": {
            "gridcolor": "white",
            "linecolor": "white",
            "ticks": ""
           },
           "bgcolor": "#E5ECF6",
           "caxis": {
            "gridcolor": "white",
            "linecolor": "white",
            "ticks": ""
           }
          },
          "title": {
           "x": 0.05
          },
          "xaxis": {
           "automargin": true,
           "gridcolor": "white",
           "linecolor": "white",
           "ticks": "",
           "title": {
            "standoff": 15
           },
           "zerolinecolor": "white",
           "zerolinewidth": 2
          },
          "yaxis": {
           "automargin": true,
           "gridcolor": "white",
           "linecolor": "white",
           "ticks": "",
           "title": {
            "standoff": 15
           },
           "zerolinecolor": "white",
           "zerolinewidth": 2
          }
         }
        },
        "title": {
         "text": "Lengths of each day of exercises (word count & exercise count)"
        },
        "width": 1200,
        "xaxis": {
         "tickmode": "array",
         "ticktext": [
          "[0.0] prereqs",
          "[0.1] ray tracing",
          "[0.2] cnns",
          "[0.3] optimization",
          "[0.4] backprop",
          "[0.5] vaes and gans",
          "[1.1] transformer from scratch",
          "[1.2] intro to mech interp",
          "[1.3.1] superposition and saes",
          "[1.3.2] interp with saes",
          "[1.4.1] indirect object identi...",
          "[1.4.2] function vectors and m...",
          "[1.5.1] balanced bracket class...",
          "[1.5.2] grokking and modular a...",
          "[1.5.3] othellogpt",
          "[3.2] dataset generation",
          "[3.3] evals with inspect"
         ],
         "tickvals": [
          0,
          1,
          2,
          3,
          4,
          5,
          7,
          8,
          9,
          10,
          11,
          12,
          13,
          14,
          15,
          18,
          19
         ]
        },
        "yaxis": {
         "title": {
          "text": "Word Count"
         }
        },
        "yaxis2": {
         "overlaying": "y",
         "side": "right",
         "title": {
          "text": "Exercise Count"
         }
        }
       }
      }
     },
     "metadata": {},
     "output_type": "display_data"
    }
   ],
   "source": [
    "from collections import defaultdict\n",
    "from pathlib import Path\n",
    "\n",
    "import numpy as np\n",
    "import pandas as pd\n",
    "import plotly.express as px\n",
    "import plotly.graph_objects as go\n",
    "\n",
    "\n",
    "def get_name_from_chapter_and_section(chapter, section, maxlen: int = 25):\n",
    "    root_dir = Path.cwd().parent.parent\n",
    "    chapter_dir = next(root_dir.glob(f\"chapter{chapter}_*\"))\n",
    "    # print(list((chapter_dir / \"exercises\").iterdir()))\n",
    "    section_dir = next((chapter_dir / \"exercises\").glob(f\"part{''.join(section)}_*\"))\n",
    "    name = section_dir.stem.split(\"_\", 1)[1].replace(\"_\", \" \")\n",
    "    if len(name) > maxlen:\n",
    "        name = name[: maxlen - 3] + \"...\"\n",
    "    return f\"[{chapter}.{'.'.join(section)}] {name}\"\n",
    "\n",
    "\n",
    "def plot_file_lengths():\n",
    "    paths = Path.cwd().glob(\"**/master_*.py\")\n",
    "    # chapter_counter = defaultdict(int)\n",
    "\n",
    "    df_list = []\n",
    "    for p in paths:\n",
    "        chapter, *section = p.stem.removeprefix(\"master_\").split(\"_\")\n",
    "        text = open(p).read()\n",
    "        # chapter_counter[chapter] += 1\n",
    "        df_list.append(\n",
    "            {\n",
    "                \"name\": get_name_from_chapter_and_section(chapter, section),\n",
    "                \"chapter\": int(chapter),\n",
    "                # \"chapter_count\": chapter_counter[chapter],\n",
    "                \"section\": \".\".join(section),\n",
    "                \"wordcount\": len(text.split()),\n",
    "                \"exercise_count\": text.count(\"# Exercise\"),\n",
    "            }\n",
    "        )\n",
    "    # df = pd.DataFrame(df_list)\n",
    "    # kwargs = dict(height=500, width=800, color=\"chapter\", range_color=[0, 4], color_continuous_scale=\"Viridis\")\n",
    "    # update_fn = lambda fig: fig.update_layout(hovermode=\"x unified\")\n",
    "    # update_fn(px.bar(df, x=\"name\", y=\"wordcount\", **kwargs, title=\"Word Count\")).show()\n",
    "    # update_fn(px.bar(df, x=\"name\", y=\"exercise_count\", **kwargs, title=\"Exercise Count\")).show()\n",
    "\n",
    "    bargap = 0.2\n",
    "    df = pd.DataFrame(df_list)\n",
    "    unique_names = df[\"name\"].unique().tolist()\n",
    "    df[\"name_idx\"] = df[\"name\"].apply(lambda x: unique_names.index(x)) + df[\"chapter\"]\n",
    "    df[\"name_idx_offset\"] = df[\"name_idx\"] + 0.5 - bargap / 2\n",
    "\n",
    "    bar1 = dict(x=df[\"name_idx\"], y=df[\"wordcount\"], name=\"Word Count\", marker_color=\"DarkBlue\")\n",
    "    bar2 = dict(x=df[\"name_idx_offset\"], y=df[\"exercise_count\"], name=\"Exercise Count\", marker_color=\"DodgerBlue\")\n",
    "    # marker_color=df[\"chapter\"], marker_colorscale=\"Viridis\"\n",
    "    fig = go.Figure([go.Bar(**bar1), go.Bar(**bar2, yaxis=\"y2\")])\n",
    "\n",
    "    fig.update_layout(\n",
    "        yaxis=dict(title=\"Word Count\"),\n",
    "        yaxis2=dict(title=\"Exercise Count\", overlaying=\"y\", side=\"right\"),\n",
    "        hovermode=\"x unified\",\n",
    "        width=1200,\n",
    "        height=500,\n",
    "        bargap=bargap / 2 + 0.5,\n",
    "        # bargroupgap=0.1 * bargap,\n",
    "        xaxis=dict(tickmode=\"array\", tickvals=df[\"name_idx\"].unique(), ticktext=unique_names),\n",
    "        title=\"Lengths of each day of exercises (word count & exercise count)\",\n",
    "    )\n",
    "    # Update the second trace to use the secondary y-axis\n",
    "    fig.data[1].update(yaxis=\"y2\")\n",
    "\n",
    "    fig.show()\n",
    "\n",
    "\n",
    "plot_file_lengths()\n"
   ]
  }
 ],
 "metadata": {
  "kernelspec": {
   "display_name": "arena",
   "language": "python",
   "name": "python3"
  },
  "language_info": {
   "codemirror_mode": {
    "name": "ipython",
    "version": 3
   },
   "file_extension": ".py",
   "mimetype": "text/x-python",
   "name": "python",
   "nbconvert_exporter": "python",
   "pygments_lexer": "ipython3",
   "version": "3.11.10"
  }
 },
 "nbformat": 4,
 "nbformat_minor": 2
}
